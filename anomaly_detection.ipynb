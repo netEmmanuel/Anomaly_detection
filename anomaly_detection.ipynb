{
  "nbformat": 4,
  "nbformat_minor": 0,
  "metadata": {
    "accelerator": "GPU",
    "colab": {
      "name": "anomaly_detection.ipynb",
      "provenance": [],
      "collapsed_sections": [
        "PIPhnG1vg-Dr",
        "4w8YzNyHhXA5",
        "OiNzr_2Xx5Xl",
        "t2L0tJPo3kMD",
        "Bd96lKYiSOK_",
        "7_ePtKtFufQf",
        "0xmdYMAE7wWw",
        "MbxrM2aJ9Pwj"
      ]
    },
    "kernelspec": {
      "display_name": "Python 3",
      "name": "python3"
    }
  },
  "cells": [
    {
      "cell_type": "markdown",
      "metadata": {
        "id": "PIPhnG1vg-Dr"
      },
      "source": [
        "# **Importing libraries**"
      ]
    },
    {
      "cell_type": "code",
      "metadata": {
        "id": "Ydron68UrqeE",
        "colab": {
          "base_uri": "https://localhost:8080/"
        },
        "outputId": "10ccbb70-877f-422d-bcb2-8805b2d6f10e"
      },
      "source": [
        "!pip install ipython-autotime\n",
        "import numpy as np\n",
        "import pandas as pd\n",
        "import sklearn\n",
        "from sklearn.ensemble import IsolationForest\n",
        "from sklearn.neighbors import LocalOutlierFactor\n",
        "from sklearn.svm import OneClassSVM\n",
        "import matplotlib.pyplot as plt\n",
        "from sklearn.model_selection import train_test_split\n",
        "from sklearn.metrics import roc_curve, roc_auc_score, accuracy_score, average_precision_score\n",
        "%load_ext autotime"
      ],
      "execution_count": null,
      "outputs": [
        {
          "output_type": "stream",
          "text": [
            "Requirement already satisfied: ipython-autotime in /usr/local/lib/python3.6/dist-packages (0.3.0)\n",
            "Requirement already satisfied: ipython in /usr/local/lib/python3.6/dist-packages (from ipython-autotime) (5.5.0)\n",
            "Requirement already satisfied: pygments in /usr/local/lib/python3.6/dist-packages (from ipython->ipython-autotime) (2.6.1)\n",
            "Requirement already satisfied: prompt-toolkit<2.0.0,>=1.0.4 in /usr/local/lib/python3.6/dist-packages (from ipython->ipython-autotime) (1.0.18)\n",
            "Requirement already satisfied: traitlets>=4.2 in /usr/local/lib/python3.6/dist-packages (from ipython->ipython-autotime) (4.3.3)\n",
            "Requirement already satisfied: decorator in /usr/local/lib/python3.6/dist-packages (from ipython->ipython-autotime) (4.4.2)\n",
            "Requirement already satisfied: pickleshare in /usr/local/lib/python3.6/dist-packages (from ipython->ipython-autotime) (0.7.5)\n",
            "Requirement already satisfied: simplegeneric>0.8 in /usr/local/lib/python3.6/dist-packages (from ipython->ipython-autotime) (0.8.1)\n",
            "Requirement already satisfied: pexpect; sys_platform != \"win32\" in /usr/local/lib/python3.6/dist-packages (from ipython->ipython-autotime) (4.8.0)\n",
            "Requirement already satisfied: setuptools>=18.5 in /usr/local/lib/python3.6/dist-packages (from ipython->ipython-autotime) (51.1.1)\n",
            "Requirement already satisfied: wcwidth in /usr/local/lib/python3.6/dist-packages (from prompt-toolkit<2.0.0,>=1.0.4->ipython->ipython-autotime) (0.2.5)\n",
            "Requirement already satisfied: six>=1.9.0 in /usr/local/lib/python3.6/dist-packages (from prompt-toolkit<2.0.0,>=1.0.4->ipython->ipython-autotime) (1.15.0)\n",
            "Requirement already satisfied: ipython-genutils in /usr/local/lib/python3.6/dist-packages (from traitlets>=4.2->ipython->ipython-autotime) (0.2.0)\n",
            "Requirement already satisfied: ptyprocess>=0.5 in /usr/local/lib/python3.6/dist-packages (from pexpect; sys_platform != \"win32\"->ipython->ipython-autotime) (0.6.0)\n",
            "The autotime extension is already loaded. To reload it, use:\n",
            "  %reload_ext autotime\n",
            "time: 2.23 s (started: 2021-01-09 20:16:02 +00:00)\n"
          ],
          "name": "stdout"
        }
      ]
    },
    {
      "cell_type": "markdown",
      "metadata": {
        "id": "4w8YzNyHhXA5"
      },
      "source": [
        "# **Import Data**"
      ]
    },
    {
      "cell_type": "code",
      "metadata": {
        "id": "06b9z76BwoIq",
        "colab": {
          "base_uri": "https://localhost:8080/"
        },
        "outputId": "752f8278-890d-4bbe-dcce-96021ca86956"
      },
      "source": [
        "data = pd.read_csv('creditcard.csv')\n",
        "data = data.drop(['Time'] , axis=1)"
      ],
      "execution_count": null,
      "outputs": [
        {
          "output_type": "stream",
          "text": [
            "time: 1.16 s (started: 2021-01-09 20:16:04 +00:00)\n"
          ],
          "name": "stdout"
        }
      ]
    },
    {
      "cell_type": "code",
      "metadata": {
        "colab": {
          "base_uri": "https://localhost:8080/"
        },
        "id": "pMNhc1bpxJiO",
        "outputId": "02c34735-730d-4227-afe7-1d8c7a600547"
      },
      "source": [
        "data.head()"
      ],
      "execution_count": null,
      "outputs": [
        {
          "output_type": "execute_result",
          "data": {
            "text/html": [
              "<div>\n",
              "<style scoped>\n",
              "    .dataframe tbody tr th:only-of-type {\n",
              "        vertical-align: middle;\n",
              "    }\n",
              "\n",
              "    .dataframe tbody tr th {\n",
              "        vertical-align: top;\n",
              "    }\n",
              "\n",
              "    .dataframe thead th {\n",
              "        text-align: right;\n",
              "    }\n",
              "</style>\n",
              "<table border=\"1\" class=\"dataframe\">\n",
              "  <thead>\n",
              "    <tr style=\"text-align: right;\">\n",
              "      <th></th>\n",
              "      <th>V1</th>\n",
              "      <th>V2</th>\n",
              "      <th>V3</th>\n",
              "      <th>V4</th>\n",
              "      <th>V5</th>\n",
              "      <th>V6</th>\n",
              "      <th>V7</th>\n",
              "      <th>V8</th>\n",
              "      <th>V9</th>\n",
              "      <th>V10</th>\n",
              "      <th>V11</th>\n",
              "      <th>V12</th>\n",
              "      <th>V13</th>\n",
              "      <th>V14</th>\n",
              "      <th>V15</th>\n",
              "      <th>V16</th>\n",
              "      <th>V17</th>\n",
              "      <th>V18</th>\n",
              "      <th>V19</th>\n",
              "      <th>V20</th>\n",
              "      <th>V21</th>\n",
              "      <th>V22</th>\n",
              "      <th>V23</th>\n",
              "      <th>V24</th>\n",
              "      <th>V25</th>\n",
              "      <th>V26</th>\n",
              "      <th>V27</th>\n",
              "      <th>V28</th>\n",
              "      <th>Amount</th>\n",
              "      <th>Class</th>\n",
              "    </tr>\n",
              "  </thead>\n",
              "  <tbody>\n",
              "    <tr>\n",
              "      <th>0</th>\n",
              "      <td>-1.359807</td>\n",
              "      <td>-0.072781</td>\n",
              "      <td>2.536347</td>\n",
              "      <td>1.378155</td>\n",
              "      <td>-0.338321</td>\n",
              "      <td>0.462388</td>\n",
              "      <td>0.239599</td>\n",
              "      <td>0.098698</td>\n",
              "      <td>0.363787</td>\n",
              "      <td>0.090794</td>\n",
              "      <td>-0.551600</td>\n",
              "      <td>-0.617801</td>\n",
              "      <td>-0.991390</td>\n",
              "      <td>-0.311169</td>\n",
              "      <td>1.468177</td>\n",
              "      <td>-0.470401</td>\n",
              "      <td>0.207971</td>\n",
              "      <td>0.025791</td>\n",
              "      <td>0.403993</td>\n",
              "      <td>0.251412</td>\n",
              "      <td>-0.018307</td>\n",
              "      <td>0.277838</td>\n",
              "      <td>-0.110474</td>\n",
              "      <td>0.066928</td>\n",
              "      <td>0.128539</td>\n",
              "      <td>-0.189115</td>\n",
              "      <td>0.133558</td>\n",
              "      <td>-0.021053</td>\n",
              "      <td>149.62</td>\n",
              "      <td>0.0</td>\n",
              "    </tr>\n",
              "    <tr>\n",
              "      <th>1</th>\n",
              "      <td>1.191857</td>\n",
              "      <td>0.266151</td>\n",
              "      <td>0.166480</td>\n",
              "      <td>0.448154</td>\n",
              "      <td>0.060018</td>\n",
              "      <td>-0.082361</td>\n",
              "      <td>-0.078803</td>\n",
              "      <td>0.085102</td>\n",
              "      <td>-0.255425</td>\n",
              "      <td>-0.166974</td>\n",
              "      <td>1.612727</td>\n",
              "      <td>1.065235</td>\n",
              "      <td>0.489095</td>\n",
              "      <td>-0.143772</td>\n",
              "      <td>0.635558</td>\n",
              "      <td>0.463917</td>\n",
              "      <td>-0.114805</td>\n",
              "      <td>-0.183361</td>\n",
              "      <td>-0.145783</td>\n",
              "      <td>-0.069083</td>\n",
              "      <td>-0.225775</td>\n",
              "      <td>-0.638672</td>\n",
              "      <td>0.101288</td>\n",
              "      <td>-0.339846</td>\n",
              "      <td>0.167170</td>\n",
              "      <td>0.125895</td>\n",
              "      <td>-0.008983</td>\n",
              "      <td>0.014724</td>\n",
              "      <td>2.69</td>\n",
              "      <td>0.0</td>\n",
              "    </tr>\n",
              "    <tr>\n",
              "      <th>2</th>\n",
              "      <td>-1.358354</td>\n",
              "      <td>-1.340163</td>\n",
              "      <td>1.773209</td>\n",
              "      <td>0.379780</td>\n",
              "      <td>-0.503198</td>\n",
              "      <td>1.800499</td>\n",
              "      <td>0.791461</td>\n",
              "      <td>0.247676</td>\n",
              "      <td>-1.514654</td>\n",
              "      <td>0.207643</td>\n",
              "      <td>0.624501</td>\n",
              "      <td>0.066084</td>\n",
              "      <td>0.717293</td>\n",
              "      <td>-0.165946</td>\n",
              "      <td>2.345865</td>\n",
              "      <td>-2.890083</td>\n",
              "      <td>1.109969</td>\n",
              "      <td>-0.121359</td>\n",
              "      <td>-2.261857</td>\n",
              "      <td>0.524980</td>\n",
              "      <td>0.247998</td>\n",
              "      <td>0.771679</td>\n",
              "      <td>0.909412</td>\n",
              "      <td>-0.689281</td>\n",
              "      <td>-0.327642</td>\n",
              "      <td>-0.139097</td>\n",
              "      <td>-0.055353</td>\n",
              "      <td>-0.059752</td>\n",
              "      <td>378.66</td>\n",
              "      <td>0.0</td>\n",
              "    </tr>\n",
              "    <tr>\n",
              "      <th>3</th>\n",
              "      <td>-0.966272</td>\n",
              "      <td>-0.185226</td>\n",
              "      <td>1.792993</td>\n",
              "      <td>-0.863291</td>\n",
              "      <td>-0.010309</td>\n",
              "      <td>1.247203</td>\n",
              "      <td>0.237609</td>\n",
              "      <td>0.377436</td>\n",
              "      <td>-1.387024</td>\n",
              "      <td>-0.054952</td>\n",
              "      <td>-0.226487</td>\n",
              "      <td>0.178228</td>\n",
              "      <td>0.507757</td>\n",
              "      <td>-0.287924</td>\n",
              "      <td>-0.631418</td>\n",
              "      <td>-1.059647</td>\n",
              "      <td>-0.684093</td>\n",
              "      <td>1.965775</td>\n",
              "      <td>-1.232622</td>\n",
              "      <td>-0.208038</td>\n",
              "      <td>-0.108300</td>\n",
              "      <td>0.005274</td>\n",
              "      <td>-0.190321</td>\n",
              "      <td>-1.175575</td>\n",
              "      <td>0.647376</td>\n",
              "      <td>-0.221929</td>\n",
              "      <td>0.062723</td>\n",
              "      <td>0.061458</td>\n",
              "      <td>123.50</td>\n",
              "      <td>0.0</td>\n",
              "    </tr>\n",
              "    <tr>\n",
              "      <th>4</th>\n",
              "      <td>-1.158233</td>\n",
              "      <td>0.877737</td>\n",
              "      <td>1.548718</td>\n",
              "      <td>0.403034</td>\n",
              "      <td>-0.407193</td>\n",
              "      <td>0.095921</td>\n",
              "      <td>0.592941</td>\n",
              "      <td>-0.270533</td>\n",
              "      <td>0.817739</td>\n",
              "      <td>0.753074</td>\n",
              "      <td>-0.822843</td>\n",
              "      <td>0.538196</td>\n",
              "      <td>1.345852</td>\n",
              "      <td>-1.119670</td>\n",
              "      <td>0.175121</td>\n",
              "      <td>-0.451449</td>\n",
              "      <td>-0.237033</td>\n",
              "      <td>-0.038195</td>\n",
              "      <td>0.803487</td>\n",
              "      <td>0.408542</td>\n",
              "      <td>-0.009431</td>\n",
              "      <td>0.798278</td>\n",
              "      <td>-0.137458</td>\n",
              "      <td>0.141267</td>\n",
              "      <td>-0.206010</td>\n",
              "      <td>0.502292</td>\n",
              "      <td>0.219422</td>\n",
              "      <td>0.215153</td>\n",
              "      <td>69.99</td>\n",
              "      <td>0.0</td>\n",
              "    </tr>\n",
              "  </tbody>\n",
              "</table>\n",
              "</div>"
            ],
            "text/plain": [
              "         V1        V2        V3        V4  ...       V27       V28  Amount  Class\n",
              "0 -1.359807 -0.072781  2.536347  1.378155  ...  0.133558 -0.021053  149.62    0.0\n",
              "1  1.191857  0.266151  0.166480  0.448154  ... -0.008983  0.014724    2.69    0.0\n",
              "2 -1.358354 -1.340163  1.773209  0.379780  ... -0.055353 -0.059752  378.66    0.0\n",
              "3 -0.966272 -0.185226  1.792993 -0.863291  ...  0.062723  0.061458  123.50    0.0\n",
              "4 -1.158233  0.877737  1.548718  0.403034  ...  0.219422  0.215153   69.99    0.0\n",
              "\n",
              "[5 rows x 30 columns]"
            ]
          },
          "metadata": {
            "tags": []
          },
          "execution_count": 158
        },
        {
          "output_type": "stream",
          "text": [
            "time: 53.5 ms (started: 2021-01-09 20:16:05 +00:00)\n"
          ],
          "name": "stdout"
        }
      ]
    },
    {
      "cell_type": "code",
      "metadata": {
        "id": "BA7USfnKz70M",
        "colab": {
          "base_uri": "https://localhost:8080/"
        },
        "outputId": "509db350-9adc-4e29-9a04-d00a30f9b1a0"
      },
      "source": [
        "Fraud = data[data['Class']==1]\n",
        "Nofraud = data[data['Class']==0]\n",
        "outlier_fraction = len(Fraud)/float(len(Nofraud))"
      ],
      "execution_count": null,
      "outputs": [
        {
          "output_type": "stream",
          "text": [
            "time: 21.8 ms (started: 2021-01-09 20:16:05 +00:00)\n"
          ],
          "name": "stdout"
        }
      ]
    },
    {
      "cell_type": "code",
      "metadata": {
        "colab": {
          "base_uri": "https://localhost:8080/"
        },
        "id": "S0SSSq910m6f",
        "outputId": "62db004e-db1f-491b-cd6b-debe403c0d4b"
      },
      "source": [
        "outlier_fraction"
      ],
      "execution_count": null,
      "outputs": [
        {
          "output_type": "execute_result",
          "data": {
            "text/plain": [
              "0.0019275057574847303"
            ]
          },
          "metadata": {
            "tags": []
          },
          "execution_count": 160
        },
        {
          "output_type": "stream",
          "text": [
            "time: 2.95 ms (started: 2021-01-09 20:16:05 +00:00)\n"
          ],
          "name": "stdout"
        }
      ]
    },
    {
      "cell_type": "code",
      "metadata": {
        "colab": {
          "base_uri": "https://localhost:8080/"
        },
        "id": "t-AFuwWn8GeP",
        "outputId": "cb77dadd-1fc0-47bc-fd9d-e404a8c9fbe3"
      },
      "source": [
        "data.isna().values.any()"
      ],
      "execution_count": null,
      "outputs": [
        {
          "output_type": "execute_result",
          "data": {
            "text/plain": [
              "True"
            ]
          },
          "metadata": {
            "tags": []
          },
          "execution_count": 161
        },
        {
          "output_type": "stream",
          "text": [
            "time: 11.3 ms (started: 2021-01-09 20:16:05 +00:00)\n"
          ],
          "name": "stdout"
        }
      ]
    },
    {
      "cell_type": "markdown",
      "metadata": {
        "id": "OiNzr_2Xx5Xl"
      },
      "source": [
        "# **Data Pre-processing**"
      ]
    },
    {
      "cell_type": "code",
      "metadata": {
        "colab": {
          "base_uri": "https://localhost:8080/"
        },
        "id": "VCfXAX7Uw0es",
        "outputId": "dbbdf36c-b68c-4b6c-dc24-53fdf54f4dd5"
      },
      "source": [
        "X = data.drop('Class',axis=1) \n",
        "y = data['Class']\n",
        "y = pd.DataFrame(y)\n",
        "y.head(5)"
      ],
      "execution_count": null,
      "outputs": [
        {
          "output_type": "execute_result",
          "data": {
            "text/html": [
              "<div>\n",
              "<style scoped>\n",
              "    .dataframe tbody tr th:only-of-type {\n",
              "        vertical-align: middle;\n",
              "    }\n",
              "\n",
              "    .dataframe tbody tr th {\n",
              "        vertical-align: top;\n",
              "    }\n",
              "\n",
              "    .dataframe thead th {\n",
              "        text-align: right;\n",
              "    }\n",
              "</style>\n",
              "<table border=\"1\" class=\"dataframe\">\n",
              "  <thead>\n",
              "    <tr style=\"text-align: right;\">\n",
              "      <th></th>\n",
              "      <th>Class</th>\n",
              "    </tr>\n",
              "  </thead>\n",
              "  <tbody>\n",
              "    <tr>\n",
              "      <th>0</th>\n",
              "      <td>0.0</td>\n",
              "    </tr>\n",
              "    <tr>\n",
              "      <th>1</th>\n",
              "      <td>0.0</td>\n",
              "    </tr>\n",
              "    <tr>\n",
              "      <th>2</th>\n",
              "      <td>0.0</td>\n",
              "    </tr>\n",
              "    <tr>\n",
              "      <th>3</th>\n",
              "      <td>0.0</td>\n",
              "    </tr>\n",
              "    <tr>\n",
              "      <th>4</th>\n",
              "      <td>0.0</td>\n",
              "    </tr>\n",
              "  </tbody>\n",
              "</table>\n",
              "</div>"
            ],
            "text/plain": [
              "   Class\n",
              "0    0.0\n",
              "1    0.0\n",
              "2    0.0\n",
              "3    0.0\n",
              "4    0.0"
            ]
          },
          "metadata": {
            "tags": []
          },
          "execution_count": 162
        },
        {
          "output_type": "stream",
          "text": [
            "time: 28.7 ms (started: 2021-01-09 20:16:05 +00:00)\n"
          ],
          "name": "stdout"
        }
      ]
    },
    {
      "cell_type": "code",
      "metadata": {
        "colab": {
          "base_uri": "https://localhost:8080/"
        },
        "id": "MCf57sxgO53G",
        "outputId": "3340d661-bf63-4be2-ebbb-178a25dbdbd7"
      },
      "source": [
        "#outlier dataframe to test model on Unsupervised\n",
        "X_outliers = Fraud.drop(['Class'], axis=1)\n",
        "len(X_outliers)"
      ],
      "execution_count": null,
      "outputs": [
        {
          "output_type": "execute_result",
          "data": {
            "text/plain": [
              "385"
            ]
          },
          "metadata": {
            "tags": []
          },
          "execution_count": 163
        },
        {
          "output_type": "stream",
          "text": [
            "time: 3.51 ms (started: 2021-01-09 20:16:05 +00:00)\n"
          ],
          "name": "stdout"
        }
      ]
    },
    {
      "cell_type": "code",
      "metadata": {
        "id": "ljBwxq_0IbzG",
        "colab": {
          "base_uri": "https://localhost:8080/"
        },
        "outputId": "39468d77-04c3-422e-c856-8375b10e48af"
      },
      "source": [
        "#Split data into test and train set\n",
        "X_train, X_test, y_train, y_test = train_test_split(X, y, test_size = .3, random_state = 123)"
      ],
      "execution_count": null,
      "outputs": [
        {
          "output_type": "stream",
          "text": [
            "time: 73.8 ms (started: 2021-01-09 20:16:05 +00:00)\n"
          ],
          "name": "stdout"
        }
      ]
    },
    {
      "cell_type": "code",
      "metadata": {
        "colab": {
          "base_uri": "https://localhost:8080/"
        },
        "id": "zpZ4eFNMymnF",
        "outputId": "b0247815-791d-48b7-d0fc-a06b7fbd220c"
      },
      "source": [
        "#replace inifinty values in dataframe\n",
        "X_test= np.nan_to_num(X_test)\n",
        "y_test = np.nan_to_num(y_test)"
      ],
      "execution_count": null,
      "outputs": [
        {
          "output_type": "stream",
          "text": [
            "time: 19 ms (started: 2021-01-09 20:16:06 +00:00)\n"
          ],
          "name": "stdout"
        }
      ]
    },
    {
      "cell_type": "markdown",
      "metadata": {
        "id": "t2L0tJPo3kMD"
      },
      "source": [
        "# **Isolation forest**"
      ]
    },
    {
      "cell_type": "code",
      "metadata": {
        "colab": {
          "base_uri": "https://localhost:8080/"
        },
        "id": "5GdYjfg23diT",
        "outputId": "9052fbf0-2330-4fe3-b047-dd62600f90d7"
      },
      "source": [
        "clf = IsolationForest(max_samples=100)\n",
        "\n",
        "clf"
      ],
      "execution_count": null,
      "outputs": [
        {
          "output_type": "execute_result",
          "data": {
            "text/plain": [
              "IsolationForest(behaviour='deprecated', bootstrap=False, contamination='auto',\n",
              "                max_features=1.0, max_samples=100, n_estimators=100,\n",
              "                n_jobs=None, random_state=None, verbose=0, warm_start=False)"
            ]
          },
          "metadata": {
            "tags": []
          },
          "execution_count": 166
        },
        {
          "output_type": "stream",
          "text": [
            "time: 4.55 ms (started: 2021-01-09 20:16:06 +00:00)\n"
          ],
          "name": "stdout"
        }
      ]
    },
    {
      "cell_type": "markdown",
      "metadata": {
        "id": "dBUtJNXcyqJS"
      },
      "source": [
        "**Fit model on data**"
      ]
    },
    {
      "cell_type": "code",
      "metadata": {
        "id": "AB9ZVbw6KZ5c",
        "colab": {
          "base_uri": "https://localhost:8080/"
        },
        "outputId": "0c1d45b9-a9f3-4ba0-c0a6-b1449d718e05"
      },
      "source": [
        "Iso_outliers = clf.fit(X_train)"
      ],
      "execution_count": null,
      "outputs": [
        {
          "output_type": "stream",
          "text": [
            "time: 1.56 s (started: 2021-01-09 20:16:06 +00:00)\n"
          ],
          "name": "stdout"
        }
      ]
    },
    {
      "cell_type": "markdown",
      "metadata": {
        "id": "yuB7ISf4NEPl"
      },
      "source": [
        "**predictions**"
      ]
    },
    {
      "cell_type": "code",
      "metadata": {
        "colab": {
          "base_uri": "https://localhost:8080/"
        },
        "id": "lss8cFtoMo2W",
        "outputId": "5076a81c-6e52-4b11-d3fe-0462684afee6"
      },
      "source": [
        "#Predict on train data\n",
        "Iso_outliers_train = Iso_outliers.predict(X_train)\n",
        "Iso_outliers_train"
      ],
      "execution_count": null,
      "outputs": [
        {
          "output_type": "execute_result",
          "data": {
            "text/plain": [
              "array([1, 1, 1, ..., 1, 1, 1])"
            ]
          },
          "metadata": {
            "tags": []
          },
          "execution_count": 168
        },
        {
          "output_type": "stream",
          "text": [
            "time: 4.59 s (started: 2021-01-09 20:16:07 +00:00)\n"
          ],
          "name": "stdout"
        }
      ]
    },
    {
      "cell_type": "code",
      "metadata": {
        "id": "wZLm3lmSMqnQ",
        "colab": {
          "base_uri": "https://localhost:8080/"
        },
        "outputId": "d5bd23d2-f0f0-4079-e8f6-e72f50f1c4a9"
      },
      "source": [
        "#Predict on test data\n",
        "Iso_outliers_test = Iso_outliers.predict(X_test)\n",
        "Iso_outliers_test"
      ],
      "execution_count": null,
      "outputs": [
        {
          "output_type": "execute_result",
          "data": {
            "text/plain": [
              "array([1, 1, 1, ..., 1, 1, 1])"
            ]
          },
          "metadata": {
            "tags": []
          },
          "execution_count": 169
        },
        {
          "output_type": "stream",
          "text": [
            "time: 1.92 s (started: 2021-01-09 20:16:12 +00:00)\n"
          ],
          "name": "stdout"
        }
      ]
    },
    {
      "cell_type": "code",
      "metadata": {
        "id": "XgALb10IpQYr",
        "colab": {
          "base_uri": "https://localhost:8080/"
        },
        "outputId": "a8d974de-2270-4c05-bc97-4364c2169c28"
      },
      "source": [
        "#Calcuate the decision function on the test data\n",
        "y_score = - Iso_outliers.decision_function(X_test)"
      ],
      "execution_count": null,
      "outputs": [
        {
          "output_type": "stream",
          "text": [
            "time: 1.91 s (started: 2021-01-09 20:16:14 +00:00)\n"
          ],
          "name": "stdout"
        }
      ]
    },
    {
      "cell_type": "code",
      "metadata": {
        "id": "LEwSfO3rQMkb",
        "colab": {
          "base_uri": "https://localhost:8080/"
        },
        "outputId": "64e5a7ee-40ef-4bf8-9f4c-6eaef7fac752"
      },
      "source": [
        "#Predict on outlier data\n",
        "Iso_outliers_pred = Iso_outliers.predict(X_outliers)"
      ],
      "execution_count": null,
      "outputs": [
        {
          "output_type": "stream",
          "text": [
            "time: 61.8 ms (started: 2021-01-09 20:16:16 +00:00)\n"
          ],
          "name": "stdout"
        }
      ]
    },
    {
      "cell_type": "markdown",
      "metadata": {
        "id": "Bd96lKYiSOK_"
      },
      "source": [
        "# **Isolation Forest Model Evaulation**"
      ]
    },
    {
      "cell_type": "code",
      "metadata": {
        "colab": {
          "base_uri": "https://localhost:8080/"
        },
        "id": "jJzBYoI6QgDE",
        "outputId": "5bebc8fd-59a6-4bf8-9e04-e9ac73d3706f"
      },
      "source": [
        "#isolation Forest\n",
        "print(\"Accuracy test :\", list(Iso_outliers_test).count(1)/Iso_outliers_test.shape[0])\n",
        "print(\"Accuracy outliners:\", list(Iso_outliers_pred).count(-1)/Iso_outliers_pred.shape[0])"
      ],
      "execution_count": null,
      "outputs": [
        {
          "output_type": "stream",
          "text": [
            "Accuracy test : 0.9391552017055864\n",
            "Accuracy outliners: 0.8675324675324675\n",
            "time: 26.4 ms (started: 2021-01-09 20:16:16 +00:00)\n"
          ],
          "name": "stdout"
        }
      ]
    },
    {
      "cell_type": "code",
      "metadata": {
        "colab": {
          "base_uri": "https://localhost:8080/"
        },
        "id": "tJWIcgC_mRgd",
        "outputId": "837ed0f0-9f9c-4d82-a8f8-c0ee424820f4"
      },
      "source": [
        "print(\"ROC AUC: %0.1f%%\" % (roc_auc_score(y_test, y_score) * 100.))"
      ],
      "execution_count": null,
      "outputs": [
        {
          "output_type": "stream",
          "text": [
            "ROC AUC: 94.6%\n",
            "time: 28.7 ms (started: 2021-01-09 20:16:16 +00:00)\n"
          ],
          "name": "stdout"
        }
      ]
    },
    {
      "cell_type": "code",
      "metadata": {
        "colab": {
          "base_uri": "https://localhost:8080/"
        },
        "id": "baE4FDt7nLJZ",
        "outputId": "d3a12f69-6dbd-4832-ebda-b1b2a774e77e"
      },
      "source": [
        "fp1, tp1, thres1 = roc_curve(y_test, y_score)\n",
        "plt.plot(fp, tp, label=\"Isolation Forest\")\n",
        "plt.xlabel(\"false positive rate\")\n",
        "plt.ylabel(\"true positive rate (recall)\")\n",
        "plt.legend()"
      ],
      "execution_count": null,
      "outputs": [
        {
          "output_type": "execute_result",
          "data": {
            "text/plain": [
              "<matplotlib.legend.Legend at 0x7f9a1a284438>"
            ]
          },
          "metadata": {
            "tags": []
          },
          "execution_count": 174
        },
        {
          "output_type": "display_data",
          "data": {
            "image/png": "[encoded data removed]",
            "text/plain": [
              "<Figure size 432x288 with 1 Axes>"
            ]
          },
          "metadata": {
            "tags": [],
            "needs_background": "light"
          }
        },
        {
          "output_type": "stream",
          "text": [
            "time: 189 ms (started: 2021-01-09 20:16:16 +00:00)\n"
          ],
          "name": "stdout"
        }
      ]
    },
    {
      "cell_type": "markdown",
      "metadata": {
        "id": "7_ePtKtFufQf"
      },
      "source": [
        "# **Local Outlier Factor**"
      ]
    },
    {
      "cell_type": "code",
      "metadata": {
        "colab": {
          "base_uri": "https://localhost:8080/"
        },
        "id": "Famaqyf7uxNI",
        "outputId": "752ef2b8-f7d3-47cb-ae25-191e4d59a910"
      },
      "source": [
        "clf2= LocalOutlierFactor(n_neighbors=20, novelty=True)\n",
        "clf2"
      ],
      "execution_count": null,
      "outputs": [
        {
          "output_type": "execute_result",
          "data": {
            "text/plain": [
              "LocalOutlierFactor(algorithm='auto', contamination='auto', leaf_size=30,\n",
              "                   metric='minkowski', metric_params=None, n_jobs=None,\n",
              "                   n_neighbors=20, novelty=True, p=2)"
            ]
          },
          "metadata": {
            "tags": []
          },
          "execution_count": 175
        },
        {
          "output_type": "stream",
          "text": [
            "time: 4.57 ms (started: 2021-01-09 20:16:16 +00:00)\n"
          ],
          "name": "stdout"
        }
      ]
    },
    {
      "cell_type": "markdown",
      "metadata": {
        "id": "g4uIoW46ymli"
      },
      "source": [
        "**Fit Model on data**"
      ]
    },
    {
      "cell_type": "code",
      "metadata": {
        "id": "xUuLj_N_yg3k",
        "colab": {
          "base_uri": "https://localhost:8080/"
        },
        "outputId": "eab970fa-4407-42fa-bbd3-9ba9cd5388c7"
      },
      "source": [
        "lof_outliers = clf2.fit(X_train)"
      ],
      "execution_count": null,
      "outputs": [
        {
          "output_type": "stream",
          "text": [
            "time: 1min 51s (started: 2021-01-09 20:16:16 +00:00)\n"
          ],
          "name": "stdout"
        }
      ]
    },
    {
      "cell_type": "code",
      "metadata": {
        "colab": {
          "base_uri": "https://localhost:8080/"
        },
        "id": "jbJmcNuazJtf",
        "outputId": "22ec02af-5827-40ec-9a15-0e99b700a721"
      },
      "source": [
        "#Predict on train data\n",
        "lof_outliers_train = lof_outliers.predict(X_train)\n",
        "lof_outliers_train"
      ],
      "execution_count": null,
      "outputs": [
        {
          "output_type": "execute_result",
          "data": {
            "text/plain": [
              "array([1, 1, 1, ..., 1, 1, 1])"
            ]
          },
          "metadata": {
            "tags": []
          },
          "execution_count": 177
        },
        {
          "output_type": "stream",
          "text": [
            "time: 1min 47s (started: 2021-01-09 20:18:08 +00:00)\n"
          ],
          "name": "stdout"
        }
      ]
    },
    {
      "cell_type": "code",
      "metadata": {
        "colab": {
          "base_uri": "https://localhost:8080/"
        },
        "id": "HR7jKAOY1Zgl",
        "outputId": "bec8e306-3f5b-483d-9c85-d79d9363b979"
      },
      "source": [
        "#Predict on test data\n",
        "lof_outliers_test = lof_outliers.predict(X_test)\n",
        "lof_outliers_test"
      ],
      "execution_count": null,
      "outputs": [
        {
          "output_type": "execute_result",
          "data": {
            "text/plain": [
              "array([1, 1, 1, ..., 1, 1, 1])"
            ]
          },
          "metadata": {
            "tags": []
          },
          "execution_count": 178
        },
        {
          "output_type": "stream",
          "text": [
            "time: 46.2 s (started: 2021-01-09 20:19:55 +00:00)\n"
          ],
          "name": "stdout"
        }
      ]
    },
    {
      "cell_type": "code",
      "metadata": {
        "id": "0d3WDNnY1cm4",
        "colab": {
          "base_uri": "https://localhost:8080/"
        },
        "outputId": "37c49713-809b-4a8e-d679-b6cabaf5bd85"
      },
      "source": [
        "#Calcuate the decision function on the test data\n",
        "lof_y_score = - lof_outliers.decision_function(X_test)"
      ],
      "execution_count": null,
      "outputs": [
        {
          "output_type": "stream",
          "text": [
            "time: 46.5 s (started: 2021-01-09 20:20:42 +00:00)\n"
          ],
          "name": "stdout"
        }
      ]
    },
    {
      "cell_type": "code",
      "metadata": {
        "id": "6vmaC4sU1fIu",
        "colab": {
          "base_uri": "https://localhost:8080/"
        },
        "outputId": "16df39d9-67c6-470d-8e6b-bd2182a1aeb5"
      },
      "source": [
        "#Predict on outlier data\n",
        "lof_outliers_pred = lof_outliers.predict(X_outliers)"
      ],
      "execution_count": null,
      "outputs": [
        {
          "output_type": "stream",
          "text": [
            "time: 314 ms (started: 2021-01-09 20:21:28 +00:00)\n"
          ],
          "name": "stdout"
        }
      ]
    },
    {
      "cell_type": "markdown",
      "metadata": {
        "id": "0xmdYMAE7wWw"
      },
      "source": [
        "# **Local Outlier Factor Model Evaulation**"
      ]
    },
    {
      "cell_type": "code",
      "metadata": {
        "colab": {
          "base_uri": "https://localhost:8080/"
        },
        "id": "evIP3D6d6Ts8",
        "outputId": "d3610a33-bc34-42e4-afbe-56b21dc1ad1a"
      },
      "source": [
        "print(\"ROC AUC: %0.1f%%\" % (roc_auc_score(y_test, lof_y_score) * 100.))"
      ],
      "execution_count": null,
      "outputs": [
        {
          "output_type": "stream",
          "text": [
            "ROC AUC: 68.4%\n",
            "time: 24.5 ms (started: 2021-01-09 20:21:28 +00:00)\n"
          ],
          "name": "stdout"
        }
      ]
    },
    {
      "cell_type": "code",
      "metadata": {
        "colab": {
          "base_uri": "https://localhost:8080/"
        },
        "id": "4J4s2ivy6e5o",
        "outputId": "8d3c7816-1f7f-4b08-81ab-172745b4ec44"
      },
      "source": [
        "#LOF\n",
        "print(\"Accuracy test :\", list(lof_outliers_test).count(1)/lof_outliers_test.shape[0])\n",
        "print(\"Accuracy outliners:\", list(lof_outliers_pred).count(-1)/lof_outliers_pred.shape[0])"
      ],
      "execution_count": null,
      "outputs": [
        {
          "output_type": "stream",
          "text": [
            "Accuracy test : 0.9580932076351644\n",
            "Accuracy outliners: 0.36623376623376624\n",
            "time: 17.4 ms (started: 2021-01-09 20:21:28 +00:00)\n"
          ],
          "name": "stdout"
        }
      ]
    },
    {
      "cell_type": "code",
      "metadata": {
        "colab": {
          "base_uri": "https://localhost:8080/"
        },
        "id": "Yh7z3mnz6y2h",
        "outputId": "f8424c63-8009-4824-b5c9-f86ebd011ab5"
      },
      "source": [
        "fp2, tp2, thres2 = roc_curve(y_test, lof_y_score)\n",
        "plt.plot(fp, tp, label=\"Local Outlier Factor\")\n",
        "plt.xlabel(\"false positive rate\")\n",
        "plt.ylabel(\"true positive rate (recall)\")\n",
        "plt.legend()"
      ],
      "execution_count": null,
      "outputs": [
        {
          "output_type": "execute_result",
          "data": {
            "text/plain": [
              "<matplotlib.legend.Legend at 0x7f9a1cab2668>"
            ]
          },
          "metadata": {
            "tags": []
          },
          "execution_count": 183
        },
        {
          "output_type": "display_data",
          "data": {
            "image/png": "[encoded data removed]",
            "text/plain": [
              "<Figure size 432x288 with 1 Axes>"
            ]
          },
          "metadata": {
            "tags": [],
            "needs_background": "light"
          }
        },
        {
          "output_type": "stream",
          "text": [
            "time: 197 ms (started: 2021-01-09 20:21:28 +00:00)\n"
          ],
          "name": "stdout"
        }
      ]
    },
    {
      "cell_type": "markdown",
      "metadata": {
        "id": "MbxrM2aJ9Pwj"
      },
      "source": [
        "# **One Class SVM**"
      ]
    },
    {
      "cell_type": "code",
      "metadata": {
        "colab": {
          "base_uri": "https://localhost:8080/"
        },
        "id": "p4WQNU_bSkEH",
        "outputId": "85a33ef6-1a35-4262-8503-3776ac3a7749"
      },
      "source": [
        "\n",
        "clf3 = OneClassSVM(nu=.2,kernel='linear',gamma=.001)\n",
        "clf3"
      ],
      "execution_count": null,
      "outputs": [
        {
          "output_type": "execute_result",
          "data": {
            "text/plain": [
              "OneClassSVM(cache_size=200, coef0=0.0, degree=3, gamma=0.001, kernel='linear',\n",
              "            max_iter=-1, nu=0.2, shrinking=True, tol=0.001, verbose=False)"
            ]
          },
          "metadata": {
            "tags": []
          },
          "execution_count": 184
        },
        {
          "output_type": "stream",
          "text": [
            "time: 4.58 ms (started: 2021-01-09 20:21:29 +00:00)\n"
          ],
          "name": "stdout"
        }
      ]
    },
    {
      "cell_type": "code",
      "metadata": {
        "colab": {
          "base_uri": "https://localhost:8080/"
        },
        "id": "WK-kKEAzC1Sx",
        "outputId": "55cbb935-c39c-4562-e9aa-5f6a063e76f7"
      },
      "source": [
        "#Fit Model on train data\n",
        "OneClassSVM = clf3.fit(X_train)"
      ],
      "execution_count": null,
      "outputs": [
        {
          "output_type": "stream",
          "text": [
            "time: 6min 57s (started: 2021-01-09 20:21:29 +00:00)\n"
          ],
          "name": "stdout"
        }
      ]
    },
    {
      "cell_type": "code",
      "metadata": {
        "id": "p883rhptC4et",
        "colab": {
          "base_uri": "https://localhost:8080/"
        },
        "outputId": "6b0c03cd-cc7e-429f-c240-c49ac9ef1664"
      },
      "source": [
        "#Predict on train data\n",
        "OneClassSVM_train = OneClassSVM.predict(X_train)\n",
        "OneClassSVM_train"
      ],
      "execution_count": null,
      "outputs": [
        {
          "output_type": "execute_result",
          "data": {
            "text/plain": [
              "array([1, 1, 1, ..., 1, 1, 1])"
            ]
          },
          "metadata": {
            "tags": []
          },
          "execution_count": 186
        },
        {
          "output_type": "stream",
          "text": [
            "time: 1min 55s (started: 2021-01-09 20:28:26 +00:00)\n"
          ],
          "name": "stdout"
        }
      ]
    },
    {
      "cell_type": "code",
      "metadata": {
        "colab": {
          "base_uri": "https://localhost:8080/"
        },
        "id": "90vgzVhOC68z",
        "outputId": "5b32daf7-babe-4f47-d26a-1ccbf919bb2d"
      },
      "source": [
        "#Predict on test data\n",
        "OneClassSVM_test = OneClassSVM.predict(X_test)\n",
        "OneClassSVM_test"
      ],
      "execution_count": null,
      "outputs": [
        {
          "output_type": "execute_result",
          "data": {
            "text/plain": [
              "array([-1,  1,  1, ...,  1,  1,  1])"
            ]
          },
          "metadata": {
            "tags": []
          },
          "execution_count": 187
        },
        {
          "output_type": "stream",
          "text": [
            "time: 49.1 s (started: 2021-01-09 20:30:21 +00:00)\n"
          ],
          "name": "stdout"
        }
      ]
    },
    {
      "cell_type": "code",
      "metadata": {
        "colab": {
          "base_uri": "https://localhost:8080/"
        },
        "id": "EEOT6r98C9NV",
        "outputId": "56a9eaf1-957c-4d7a-f11b-111ae1dee7b4"
      },
      "source": [
        "#Calcuate the decision function on the test data\n",
        "OneClassSVM_y_score = - OneClassSVM.decision_function(X_test)"
      ],
      "execution_count": null,
      "outputs": [
        {
          "output_type": "stream",
          "text": [
            "time: 49.1 s (started: 2021-01-09 20:31:10 +00:00)\n"
          ],
          "name": "stdout"
        }
      ]
    },
    {
      "cell_type": "code",
      "metadata": {
        "id": "XWFTBPDlDArg",
        "colab": {
          "base_uri": "https://localhost:8080/"
        },
        "outputId": "e6e078c3-25e5-4d7d-a826-9e673cafcd1a"
      },
      "source": [
        "#Predict on outlier data\n",
        "OneClassSVM_pred = OneClassSVM.predict(X_outliers)"
      ],
      "execution_count": null,
      "outputs": [
        {
          "output_type": "stream",
          "text": [
            "time: 332 ms (started: 2021-01-09 20:31:59 +00:00)\n"
          ],
          "name": "stdout"
        }
      ]
    },
    {
      "cell_type": "markdown",
      "metadata": {
        "id": "_WyvSfoRDEGJ"
      },
      "source": [
        "# **One Class SVM Evaluation**"
      ]
    },
    {
      "cell_type": "code",
      "metadata": {
        "id": "BteiAY6bBiNU",
        "colab": {
          "base_uri": "https://localhost:8080/"
        },
        "outputId": "af93a183-921c-409d-8a2b-77d72d684e2b"
      },
      "source": [
        "print(\"ROC AUC: %0.1f%%\" % (roc_auc_score(y_test, OneClassSVM_y_score) * 100.))"
      ],
      "execution_count": null,
      "outputs": [
        {
          "output_type": "stream",
          "text": [
            "ROC AUC: 49.9%\n",
            "time: 24.9 ms (started: 2021-01-09 20:32:00 +00:00)\n"
          ],
          "name": "stdout"
        }
      ]
    },
    {
      "cell_type": "code",
      "metadata": {
        "colab": {
          "base_uri": "https://localhost:8080/"
        },
        "id": "bXjuTnf6cEqs",
        "outputId": "41641167-05ee-4f33-f950-6cf614b2dc5e"
      },
      "source": [
        "print(\"Accuracy test :\", list(OneClassSVM_test).count(1)/OneClassSVM_test.shape[0])\n",
        "print(\"Accuracy outliners:\", list(OneClassSVM_pred).count(-1)/OneClassSVM_pred.shape[0])"
      ],
      "execution_count": null,
      "outputs": [
        {
          "output_type": "stream",
          "text": [
            "Accuracy test : 0.8005429894400213\n",
            "Accuracy outliners: 0.3116883116883117\n",
            "time: 21.2 ms (started: 2021-01-09 20:32:00 +00:00)\n"
          ],
          "name": "stdout"
        }
      ]
    },
    {
      "cell_type": "code",
      "metadata": {
        "colab": {
          "base_uri": "https://localhost:8080/",
          "height": 313
        },
        "id": "qaT7VJVxgI3V",
        "outputId": "6f5cdf9a-6a8a-4266-f5e6-38384222e85b"
      },
      "source": [
        "fp3, tp3, thres3 = roc_curve(y_test, OneClassSVM_y_score)\n",
        "plt.plot(fp, tp, label=\"One Class SVM\")\n",
        "plt.xlabel(\"false positive rate\")\n",
        "plt.ylabel(\"true positive rate (recall)\")\n",
        "plt.legend()"
      ],
      "execution_count": null,
      "outputs": [
        {
          "output_type": "execute_result",
          "data": {
            "text/plain": [
              "<matplotlib.legend.Legend at 0x7f9a1c8a3860>"
            ]
          },
          "metadata": {
            "tags": []
          },
          "execution_count": 192
        },
        {
          "output_type": "display_data",
          "data": {
            "image/png": "[encoded data removed]",
            "text/plain": [
              "<Figure size 432x288 with 1 Axes>"
            ]
          },
          "metadata": {
            "tags": [],
            "needs_background": "light"
          }
        },
        {
          "output_type": "stream",
          "text": [
            "time: 188 ms (started: 2021-01-09 20:32:00 +00:00)\n"
          ],
          "name": "stdout"
        }
      ]
    },
    {
      "cell_type": "markdown",
      "metadata": {
        "id": "3PgKgSY5r3FE"
      },
      "source": [
        "# **Plot 3 ROC Curves together**"
      ]
    },
    {
      "cell_type": "code",
      "metadata": {
        "colab": {
          "base_uri": "https://localhost:8080/",
          "height": 312
        },
        "id": "6RmXDg7Or2R1",
        "outputId": "90598b0d-74bf-4e3e-8613-f4a5372d3db8"
      },
      "source": [
        "plt.plot([0,1],[0,1], 'k--')\n",
        "plt.plot(fp1, tp1, label= \"Isolation Forest\")\n",
        "plt.plot(fp2, tp2, label= \"Local Outlier Factor\")\n",
        "plt.plot(fp3, tp3, label= \"One-Class SVM\")\n",
        "plt.legend()\n",
        "plt.xlabel(\"FPR\")\n",
        "plt.ylabel(\"TPR\")\n",
        "plt.title('ROC Curve')\n",
        "plt.show()"
      ],
      "execution_count": null,
      "outputs": [
        {
          "output_type": "display_data",
          "data": {
            "image/png": "[encoded data removed]",
            "text/plain": [
              "<Figure size 432x288 with 1 Axes>"
            ]
          },
          "metadata": {
            "tags": [],
            "needs_background": "light"
          }
        },
        {
          "output_type": "stream",
          "text": [
            "time: 179 ms (started: 2021-01-09 20:32:00 +00:00)\n"
          ],
          "name": "stdout"
        }
      ]
    }
  ]
}